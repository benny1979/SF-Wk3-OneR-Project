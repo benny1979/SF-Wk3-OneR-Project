{
 "cells": [
  {
   "cell_type": "code",
   "execution_count": 129,
   "metadata": {
    "collapsed": true
   },
   "outputs": [],
   "source": [
    "import csv"
   ]
  },
  {
   "cell_type": "code",
   "execution_count": 130,
   "metadata": {
    "collapsed": true
   },
   "outputs": [],
   "source": [
    "build_filename = 'play_data_set.csv'"
   ]
  },
  {
   "cell_type": "code",
   "execution_count": 131,
   "metadata": {
    "collapsed": true
   },
   "outputs": [],
   "source": [
    "def open_file(filename_in):\n",
    "    f = open(filename_in,'r')\n",
    "    datafile = csv.reader(f)\n",
    "    data = []\n",
    "    for line in datafile: #this gives you a list of lists\n",
    "        data.append(line)\n",
    "    headers = data[0] #take the first line of data as headers\n",
    "    data.pop(0) #then remove the first line from data as you've now separated that to headers \n",
    "    return (data, headers)"
   ]
  },
  {
   "cell_type": "code",
   "execution_count": 132,
   "metadata": {
    "collapsed": true
   },
   "outputs": [],
   "source": [
    "#incorporated into function\n",
    "#data , headers = open_file(test_filename) #load in file and unpack to data and headers"
   ]
  },
  {
   "cell_type": "code",
   "execution_count": 133,
   "metadata": {
    "collapsed": true
   },
   "outputs": [],
   "source": [
    "#incorporated into function\n",
    "#data #check data looks ok"
   ]
  },
  {
   "cell_type": "code",
   "execution_count": 134,
   "metadata": {},
   "outputs": [
    {
     "data": {
      "text/plain": [
       "['weather', 'temperature', 'humidity', 'play']"
      ]
     },
     "execution_count": 134,
     "metadata": {},
     "output_type": "execute_result"
    }
   ],
   "source": [
    "headers #check the headers are ok"
   ]
  },
  {
   "cell_type": "code",
   "execution_count": 135,
   "metadata": {
    "collapsed": true
   },
   "outputs": [],
   "source": [
    "def parse_data(data_in, headers_in):\n",
    "    '''takes data and headers in. summarises and returns results as dictionary'''\n",
    "    results = {} #set up a blank dictionary to hold summarised column data for all columns\n",
    "\n",
    "    possible_outcomes = [] #now make a list of the possible outcomes\n",
    "    for line in data_in:\n",
    "        possible_outcomes.append(line[-1])\n",
    "    possible_outcomes = list(set(possible_outcomes)) #this removes the dupes\n",
    "    outcomes_dict  = {} #now set up a template dict based on to count outcomes\n",
    "    for outcome in possible_outcomes:\n",
    "        outcomes_dict[outcome] = 0 #add each possible outcome to the dictionary with an initial value of 0\n",
    "\n",
    "    for i in range(len(headers_in)-1): #now cycle through each column\n",
    "        characteristics = {} #initialise a blank dictionary to record what the characteristics for the column might be\n",
    "        for line in data_in: #run through the data\n",
    "            if line[i] not in characteristics: #if that record's characteristic is not in the doctionary\n",
    "                characteristics[line[i]] = outcomes_dict.copy() #add it and also add the outcome dictionary so you can record results\n",
    "                characteristics[line[i]][line[-1]] += 1 #record the results for the line\n",
    "            else:\n",
    "                characteristics[line[i]][line[-1]] += 1 #record the results for the line\n",
    "        results[headers_in[i]] = characteristics #add the summarised data for the column to the results dictionary\n",
    "    return results"
   ]
  },
  {
   "cell_type": "code",
   "execution_count": 136,
   "metadata": {
    "collapsed": true
   },
   "outputs": [],
   "source": [
    "#incorporated into function\n",
    "#results = parse_data(data,headers)"
   ]
  },
  {
   "cell_type": "code",
   "execution_count": 137,
   "metadata": {
    "collapsed": true
   },
   "outputs": [],
   "source": [
    "def check_columns(results_dict_in):\n",
    "    column_results = []\n",
    "    '''takes in result dictionary and returns list of column results'''\n",
    "    for key, value in results_dict_in.items(): #where your key is th column name and the value is the dictionary summarising the characteristics and results\n",
    "        column_results.append([key, evaluate_column(value)]) #pass your summary dict to another function to process\n",
    "    return column_results"
   ]
  },
  {
   "cell_type": "code",
   "execution_count": 138,
   "metadata": {
    "collapsed": true
   },
   "outputs": [],
   "source": [
    "def evaluate_column(column_data):\n",
    "    '''Takes in column data as dict. Evaluates and returns overall accuracy'''\n",
    "    cum_max = 0\n",
    "    total = 0\n",
    "    rules = {}\n",
    "    for characteristic, outcome in column_data.items(): #cycles through the characteristics and outcomes\n",
    "        cum_max += max(outcome.values()) #records max result for each characteristic...\n",
    "        total += sum(outcome.values()) #and total number of records for that characteristic\n",
    "        rules [characteristic] = find_rule(outcome) #pass the outcome dict to another function to find the rules and record that to rules dict\n",
    "    column_accuracy = cum_max / total #work out total accuracy for column\n",
    "    return (column_accuracy, rules)"
   ]
  },
  {
   "cell_type": "code",
   "execution_count": 139,
   "metadata": {
    "collapsed": true
   },
   "outputs": [],
   "source": [
    "def find_rule(outcome_dict_in):\n",
    "    '''takes in outcome dict for a given characteristic, returns the most likely outcome'''\n",
    "    #basically uses list comprehension to cycle through the keys and values in your outcome dict, \n",
    "    #reversing the keys and values and sorting them so the most frequent outcome comes first\n",
    "    #then you pick the first item in the list and return the item at index at 1 which is the outcome\n",
    "    sorted_items = sorted([(v,k) for (k,v) in outcome_dict_in.items()], reverse=True) \n",
    "    return sorted_items[0][1]"
   ]
  },
  {
   "cell_type": "code",
   "execution_count": 140,
   "metadata": {
    "collapsed": true
   },
   "outputs": [],
   "source": [
    "#incorporated into function\n",
    "#column_results = check_columns(results)"
   ]
  },
  {
   "cell_type": "code",
   "execution_count": 141,
   "metadata": {
    "collapsed": true
   },
   "outputs": [],
   "source": [
    "#incorporated into function\n",
    "#column_results"
   ]
  },
  {
   "cell_type": "code",
   "execution_count": 142,
   "metadata": {
    "collapsed": true
   },
   "outputs": [],
   "source": [
    "def best_column(column_results_in):\n",
    "    best = column_results_in[1].copy()\n",
    "    for column in column_results_in:\n",
    "        if column[1][0] > best[1][0]:\n",
    "            best = column\n",
    "        else:\n",
    "            pass\n",
    "    return tuple(best)"
   ]
  },
  {
   "cell_type": "code",
   "execution_count": 143,
   "metadata": {
    "collapsed": true
   },
   "outputs": [],
   "source": [
    "#incorporated into function\n",
    "#best_column(column_results)"
   ]
  },
  {
   "cell_type": "code",
   "execution_count": 144,
   "metadata": {
    "collapsed": true
   },
   "outputs": [],
   "source": [
    "#Now implement a function to test another CSV file"
   ]
  },
  {
   "cell_type": "code",
   "execution_count": 145,
   "metadata": {
    "collapsed": true
   },
   "outputs": [],
   "source": [
    "def build_rule(filename_in):\n",
    "    '''brings everything above together'''\n",
    "    data , headers = open_file(filename_in)\n",
    "    results = parse_data(data, headers)\n",
    "    column_results = check_columns(results)\n",
    "    column, (accuracy, rule) = best_column(column_results)\n",
    "    print('Best Column: ', column)\n",
    "    print('Accuracy: ', accuracy)\n",
    "    print('Rule: ',rule)\n",
    "    return (column, rule)"
   ]
  },
  {
   "cell_type": "code",
   "execution_count": 146,
   "metadata": {
    "collapsed": true
   },
   "outputs": [],
   "source": [
    "#now test out the rule\n",
    "def test_rule(filename_in, rule_in):\n",
    "    '''takes in filename, and rule as a tuple in format (column name, rule)'''\n",
    "    data , headers = open_file(filename_in)  \n",
    "    column, rule = rule_in\n",
    "    check_col_index = headers.index(column)\n",
    "    score = 0\n",
    "    for item in data:\n",
    "        if rule[item[check_col_index]] == item[-1]:\n",
    "            score += 1\n",
    "    return( score / len(data))"
   ]
  },
  {
   "cell_type": "code",
   "execution_count": 147,
   "metadata": {},
   "outputs": [
    {
     "name": "stdout",
     "output_type": "stream",
     "text": [
      "Best Column:  temperature\n",
      "Accuracy:  0.8333333333333334\n",
      "Rule:  {'hot': 'yes', 'mild': 'no', 'cold': 'yes'}\n"
     ]
    },
    {
     "data": {
      "text/plain": [
       "0.8333333333333334"
      ]
     },
     "execution_count": 147,
     "metadata": {},
     "output_type": "execute_result"
    }
   ],
   "source": [
    "test_file = 'play_data_set.csv' \n",
    "test_rule(test_file, build_rule(build_filename)) #tests out the rule, passing in the function to build the rule"
   ]
  },
  {
   "cell_type": "code",
   "execution_count": null,
   "metadata": {
    "collapsed": true
   },
   "outputs": [],
   "source": []
  },
  {
   "cell_type": "code",
   "execution_count": null,
   "metadata": {
    "collapsed": true
   },
   "outputs": [],
   "source": [
    "\n",
    "\n"
   ]
  },
  {
   "cell_type": "code",
   "execution_count": null,
   "metadata": {
    "collapsed": true
   },
   "outputs": [],
   "source": []
  },
  {
   "cell_type": "code",
   "execution_count": null,
   "metadata": {
    "collapsed": true
   },
   "outputs": [],
   "source": []
  }
 ],
 "metadata": {
  "kernelspec": {
   "display_name": "Python 3",
   "language": "python",
   "name": "python3"
  },
  "language_info": {
   "codemirror_mode": {
    "name": "ipython",
    "version": 3
   },
   "file_extension": ".py",
   "mimetype": "text/x-python",
   "name": "python",
   "nbconvert_exporter": "python",
   "pygments_lexer": "ipython3",
   "version": "3.6.2"
  }
 },
 "nbformat": 4,
 "nbformat_minor": 2
}
